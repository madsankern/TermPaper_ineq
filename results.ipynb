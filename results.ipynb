{
 "cells": [
  {
   "cell_type": "code",
   "execution_count": 2,
   "metadata": {},
   "outputs": [],
   "source": [
    "# magics: ensures that any changes to the modules loaded below will be re-loaded automatically\n",
    "%load_ext autoreload\n",
    "%autoreload 2\n",
    "\n",
    "# load general packages\n",
    "import numpy as np\n",
    "import matplotlib.pyplot as plt\n",
    "\n",
    "# Load user created modules\n",
    "import tools \n",
    "from model import model_class\n",
    "\n",
    "from scipy import interpolate\n",
    "import seaborn as sns\n",
    "\n",
    "## Uncomment for nicer plots ##\n",
    "# plt.rc('font', family='serif')\n",
    "# plt.rc('text', usetex=True)\n",
    "# plt.rc('axes', axisbelow=True)"
   ]
  },
  {
   "cell_type": "code",
   "execution_count": 191,
   "metadata": {},
   "outputs": [
    {
     "data": {
      "text/plain": [
       "1.0104512890662782"
      ]
     },
     "execution_count": 191,
     "metadata": {},
     "output_type": "execute_result"
    }
   ],
   "source": [
    "np.mean(x_lognorm)"
   ]
  },
  {
   "cell_type": "code",
   "execution_count": 388,
   "metadata": {},
   "outputs": [
    {
     "data": {
      "image/png": "[encoded data removed]",
      "text/plain": [
       "<Figure size 432x288 with 1 Axes>"
      ]
     },
     "metadata": {
      "needs_background": "light"
     },
     "output_type": "display_data"
    },
    {
     "data": {
      "text/plain": [
       "1.0100806726988873"
      ]
     },
     "execution_count": 388,
     "metadata": {},
     "output_type": "execute_result"
    }
   ],
   "source": [
    "sigma2 = 1e-4\n",
    "mu = 0.01 -sigma2/2\n",
    "\n",
    "x_lognorm = np.random.lognormal(mu, np.sqrt(sigma2), size = 10000) # Stochastic return rate\n",
    "plt.hist(x_lognorm, density = True, bins=100)\n",
    "\n",
    "plt.show()\n",
    "\n",
    "np.mean(x_lognorm)\n"
   ]
  },
  {
   "cell_type": "markdown",
   "metadata": {},
   "source": [
    "Notebook to run the .py files and visualize the results.\n",
    "This is initially a simple consumption-saving model in discrete time which is solved with EGM"
   ]
  },
  {
   "cell_type": "code",
   "execution_count": 7,
   "metadata": {},
   "outputs": [],
   "source": [
    "# Setup model\n",
    "model = model_class()\n",
    "\n",
    "model.setup()\n",
    "model.create_grids()"
   ]
  },
  {
   "cell_type": "markdown",
   "metadata": {},
   "source": [
    "**Endogenous grid**"
   ]
  },
  {
   "cell_type": "code",
   "execution_count": 8,
   "metadata": {},
   "outputs": [
    {
     "name": "stdout",
     "output_type": "stream",
     "text": [
      "75\n"
     ]
    },
    {
     "data": {
      "image/png": "[encoded data removed]",
      "text/plain": [
       "<Figure size 432x288 with 1 Axes>"
      ]
     },
     "metadata": {
      "needs_background": "light"
     },
     "output_type": "display_data"
    }
   ],
   "source": [
    "model.create_grids()\n",
    "model.solve_egm()\n",
    "\n",
    "# Generate figure\n",
    "fig = plt.figure(figsize=(6,4))\n",
    "ax = fig.add_subplot(1,1,1)\n",
    "\n",
    "# Settings\n",
    "ax.grid(b=True, which = 'major', linestyle='-', linewidth=0.5, color='0.9')\n",
    "# ax.set_xlim([0.0,20])\n",
    "# ax.set_ylim([.0,3.5])\n",
    "ax.set_xlabel(r'Cash on Hand, $m_t$', size=13)\n",
    "ax.set_ylabel(r'Consumption, $c_t$', size=13)\n",
    "\n",
    "# Plot\n",
    "ax.plot(model.sol_egm.m[0,:],model.sol_egm.c[0,:], label= r'$y = y_1$', linestyle = '-', color = '0.4')\n",
    "ax.plot(model.sol_egm.m[1,:],model.sol_egm.c[1,:], label= r'$y = y_2$', linestyle = '--', color = '0.4')\n",
    "\n",
    "ax.legend(frameon = True, edgecolor = 'k', facecolor = 'white', framealpha=1, fancybox=False)\n",
    "plt.show()"
   ]
  },
  {
   "cell_type": "code",
   "execution_count": 9,
   "metadata": {},
   "outputs": [
    {
     "data": {
      "text/plain": [
       "array([3.24073084])"
      ]
     },
     "execution_count": 9,
     "metadata": {},
     "output_type": "execute_result"
    }
   ],
   "source": [
    "val = interpolate.RegularGridInterpolator([model.sol_egm.m[0,:]], model.sol_egm.c[0,:], bounds_error=False,fill_value=None)\n",
    "val([20])"
   ]
  },
  {
   "cell_type": "markdown",
   "metadata": {},
   "source": [
    "## Simulate panel of households"
   ]
  },
  {
   "cell_type": "markdown",
   "metadata": {},
   "source": [
    "Must draw both income levels and assert returns"
   ]
  },
  {
   "cell_type": "code",
   "execution_count": 10,
   "metadata": {},
   "outputs": [],
   "source": [
    "# Construct interpolation function\n",
    "c1 = interpolate.RegularGridInterpolator([model.sol_egm.m[0,:]], model.sol_egm.c[0,:], bounds_error=False,fill_value=None)\n",
    "c2 = interpolate.RegularGridInterpolator([model.sol_egm.m[1,:]], model.sol_egm.c[1,:], bounds_error=False,fill_value=None)"
   ]
  },
  {
   "cell_type": "code",
   "execution_count": 11,
   "metadata": {},
   "outputs": [
    {
     "ename": "NameError",
     "evalue": "name 'N' is not defined",
     "output_type": "error",
     "traceback": [
      "\u001b[1;31m---------------------------------------------------------------------------\u001b[0m",
      "\u001b[1;31mNameError\u001b[0m                                 Traceback (most recent call last)",
      "\u001b[1;32m<ipython-input-11-9c8112b15274>\u001b[0m in \u001b[0;36m<module>\u001b[1;34m\u001b[0m\n\u001b[0;32m      1\u001b[0m \u001b[1;31m# Initialize income vector\u001b[0m\u001b[1;33m\u001b[0m\u001b[1;33m\u001b[0m\u001b[1;33m\u001b[0m\u001b[0m\n\u001b[1;32m----> 2\u001b[1;33m \u001b[0mincome\u001b[0m \u001b[1;33m=\u001b[0m \u001b[0mnp\u001b[0m\u001b[1;33m.\u001b[0m\u001b[0mzeros\u001b[0m\u001b[1;33m(\u001b[0m\u001b[0mN\u001b[0m\u001b[1;33m)\u001b[0m\u001b[1;33m\u001b[0m\u001b[1;33m\u001b[0m\u001b[0m\n\u001b[0m\u001b[0;32m      3\u001b[0m \u001b[0mr\u001b[0m \u001b[1;33m=\u001b[0m \u001b[0mnp\u001b[0m\u001b[1;33m.\u001b[0m\u001b[0mrandom\u001b[0m\u001b[1;33m.\u001b[0m\u001b[0muniform\u001b[0m\u001b[1;33m(\u001b[0m\u001b[0msize\u001b[0m \u001b[1;33m=\u001b[0m \u001b[0mN\u001b[0m\u001b[1;33m)\u001b[0m\u001b[1;33m\u001b[0m\u001b[1;33m\u001b[0m\u001b[0m\n\u001b[0;32m      4\u001b[0m \u001b[1;33m\u001b[0m\u001b[0m\n\u001b[0;32m      5\u001b[0m \u001b[1;32mfor\u001b[0m \u001b[0mi\u001b[0m \u001b[1;32min\u001b[0m \u001b[0mrange\u001b[0m\u001b[1;33m(\u001b[0m\u001b[0mlen\u001b[0m\u001b[1;33m(\u001b[0m\u001b[0mincome\u001b[0m\u001b[1;33m)\u001b[0m\u001b[1;33m)\u001b[0m\u001b[1;33m:\u001b[0m\u001b[1;33m\u001b[0m\u001b[1;33m\u001b[0m\u001b[0m\n",
      "\u001b[1;31mNameError\u001b[0m: name 'N' is not defined"
     ]
    }
   ],
   "source": [
    "# Initialize income vector\n",
    "income = np.zeros(N)\n",
    "r = np.random.uniform(size = N)\n",
    "\n",
    "for i in range(len(income)):\n",
    "    \n",
    "    if r[i] < (1-model.par.P_22)/(2 - model.par.P_11 - model.par.P_22):\n",
    "        income[i] = model.par.y1\n",
    "    \n",
    "    else:\n",
    "        income[i] = model.par.y2"
   ]
  },
  {
   "cell_type": "code",
   "execution_count": 12,
   "metadata": {},
   "outputs": [],
   "source": [
    "np.random.seed(2020)\n",
    "N = 100000\n",
    "T = 100\n",
    "mat = np.zeros(shape=(2,N,T)) # Array to hold each consumers consumption and assets in each period\n",
    "\n",
    "# Initialize income vector\n",
    "income = np.zeros(N)\n",
    "r = np.random.uniform(size = N)\n",
    "\n",
    "for i in range(len(income)):\n",
    "    \n",
    "    if r[i] < (1-model.par.P_22)/(2 - model.par.P_11 - model.par.P_22):\n",
    "        income[i] = model.par.y1\n",
    "    \n",
    "    else:\n",
    "        income[i] = model.par.y2\n",
    "\n",
    "# Loop over agents\n",
    "for i in range(N):\n",
    "\n",
    "    if income[i] == model.par.y1:\n",
    "        mat[1,i,0] = 0 # Set initial assts to zero\n",
    "        mat[0,i,0] = 0\n",
    "    else:\n",
    "        mat[1,i,0] = 0 # Set initial assts to zero\n",
    "        mat[0,i,0] = 0 #model.sol_egm.c[0,0]\n",
    "        \n",
    "    m_next = income[i]\n",
    "   \n",
    "    # Loop over time periods\n",
    "    for t in range(1,T):\n",
    "        \n",
    "        # FOR LOW INCOME\n",
    "        if income[i] == model.par.y1:\n",
    "            mat[1,i,t] = m_next # Assets\n",
    "            mat[0,i,t] = c1([m_next]) # Consumption\n",
    "            \n",
    "            # Draw new income\n",
    "            rand = np.random.uniform()\n",
    "            if rand < model.par.P_11:\n",
    "                income[i] = model.par.y1\n",
    "            else:\n",
    "                income[i] = model.par.y2\n",
    "            \n",
    "            # Draw stochastic asset return\n",
    "            R = np.random.lognormal(model.par.mu, np.sqrt(model.par.sigma2))            \n",
    "            \n",
    "            # Compute next period assets\n",
    "            m_next = R*(mat[1,i,t] - mat[0,i,t]) + income[i]\n",
    "        \n",
    "        # FOR HIGH INCOME\n",
    "        if income[i] == model.par.y2:\n",
    "            mat[1,i,t] = m_next # Assets           \n",
    "            mat[0,i,t] = c2([m_next]) # Consumption\n",
    "            \n",
    "            # Draw new income\n",
    "            rand = np.random.uniform()\n",
    "            if rand < model.par.P_22:\n",
    "                income[i] = model.par.y2\n",
    "            else:\n",
    "                income[i] = model.par.y1\n",
    "            \n",
    "            # Draw stochastic asset return\n",
    "            R = np.random.lognormal(model.par.mu, np.sqrt(model.par.sigma2))\n",
    "            \n",
    "            # Compute next period assets            \n",
    "            m_next = R*(mat[1,i,t] - mat[0,i,t]) + income[i]    "
   ]
  },
  {
   "cell_type": "code",
   "execution_count": 16,
   "metadata": {},
   "outputs": [
    {
     "data": {
      "image/png": "[encoded data removed]",
      "text/plain": [
       "<Figure size 720x576 with 1 Axes>"
      ]
     },
     "metadata": {
      "needs_background": "light"
     },
     "output_type": "display_data"
    }
   ],
   "source": [
    "fig = plt.figure(figsize=(10,8))\n",
    "ax = fig.add_subplot(1,1,1)\n",
    "\n",
    "ax.grid(b=True, which = 'major', linestyle='-', linewidth=0.5, color='0.9', zorder=0)\n",
    "ax.tick_params(axis='both', bottom=True, top=True, left=True, right=True, direction='in', which='both')\n",
    "\n",
    "ax.hist(mat[1,:,-1] - mat[0,:,-1], density = True, bins= np.logspace(np.log10(0.2),1, 150), color = 'green', alpha = 0.8, zorder = 2)\n",
    "ax.set(xscale='log', yscale = 'log')\n",
    "\n",
    "\n",
    "plt.show()"
   ]
  },
  {
   "cell_type": "code",
   "execution_count": 14,
   "metadata": {},
   "outputs": [
    {
     "data": {
      "image/png": "[encoded data removed]",
      "text/plain": [
       "<Figure size 432x288 with 1 Axes>"
      ]
     },
     "metadata": {
      "needs_background": "light"
     },
     "output_type": "display_data"
    }
   ],
   "source": [
    "plt.hist(mat[1,:,-1] - mat[0,:,-1], density = True, bins=100)\n",
    "plt.show()"
   ]
  },
  {
   "cell_type": "code",
   "execution_count": 391,
   "metadata": {},
   "outputs": [
    {
     "name": "stdout",
     "output_type": "stream",
     "text": [
      "[[0.6 0.4]\n",
      " [0.1 0.9]]\n"
     ]
    }
   ],
   "source": [
    "print(model.par.P)"
   ]
  },
  {
   "cell_type": "code",
   "execution_count": 397,
   "metadata": {},
   "outputs": [
    {
     "name": "stdout",
     "output_type": "stream",
     "text": [
      "55\n"
     ]
    },
    {
     "data": {
      "image/png": "[encoded data removed]",
      "text/plain": [
       "<Figure size 432x288 with 1 Axes>"
      ]
     },
     "metadata": {
      "needs_background": "light"
     },
     "output_type": "display_data"
    }
   ],
   "source": [
    "model.create_grids()\n",
    "model.solve_egm()\n",
    "\n",
    "# Generate figure\n",
    "fig = plt.figure(figsize=(6,4))\n",
    "ax = fig.add_subplot(1,1,1)\n",
    "\n",
    "# Settings\n",
    "ax.grid(b=True, which = 'major', linestyle='-', linewidth=0.5, color='0.9')\n",
    "# ax.set_xlim([0.0,20])\n",
    "# ax.set_ylim([.0,3.5])\n",
    "ax.set_xlabel(r'Cash on Hand, $m_t$', size=13)\n",
    "ax.set_ylabel(r'Consumption, $c_t$', size=13)\n",
    "\n",
    "# Plot\n",
    "ax.plot(model.sol_egm.m[0,:],model.sol_egm.c[0,:], label= r'$y = y_1$', linestyle = '-', color = '0.4')\n",
    "ax.plot(model.sol_egm.m[1,:],model.sol_egm.c[1,:], label= r'$y = y_2$', linestyle = '--', color = '0.4')\n",
    "\n",
    "ax.legend(frameon = True, edgecolor = 'k', facecolor = 'white', framealpha=1, fancybox=False)\n",
    "plt.show()"
   ]
  }
 ],
 "metadata": {
  "kernelspec": {
   "display_name": "Python 3",
   "language": "python",
   "name": "python3"
  },
  "language_info": {
   "codemirror_mode": {
    "name": "ipython",
    "version": 3
   },
   "file_extension": ".py",
   "mimetype": "text/x-python",
   "name": "python",
   "nbconvert_exporter": "python",
   "pygments_lexer": "ipython3",
   "version": "3.7.4"
  }
 },
 "nbformat": 4,
 "nbformat_minor": 4
}
