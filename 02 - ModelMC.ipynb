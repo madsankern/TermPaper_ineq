{
 "cells": [
  {
   "cell_type": "code",
   "execution_count": 184,
   "metadata": {},
   "outputs": [
    {
     "name": "stdout",
     "output_type": "stream",
     "text": [
      "The autoreload extension is already loaded. To reload it, use:\n",
      "  %reload_ext autoreload\n"
     ]
    }
   ],
   "source": [
    "# load general packages\n",
    "import numpy as np\n",
    "import pandas as pd\n",
    "import matplotlib.pyplot as plt\n",
    "from scipy import interpolate\n",
    "\n",
    "# Import user generated functions\n",
    "import functions as funcs\n",
    "\n",
    "%load_ext autoreload\n",
    "%autoreload 2\n",
    "\n",
    "## Uncomment for nicer plots ##\n",
    "plt.rc('font', family='serif')\n",
    "plt.rc('text', usetex=True)\n",
    "plt.rc('axes', axisbelow=True)"
   ]
  },
  {
   "cell_type": "markdown",
   "metadata": {},
   "source": [
    "# Load model data and plot"
   ]
  },
  {
   "cell_type": "markdown",
   "metadata": {},
   "source": [
    "Load the data and save the wealth distribution. The distributions is generated from an external matlab file 'model.m'."
   ]
  },
  {
   "cell_type": "code",
   "execution_count": 2,
   "metadata": {},
   "outputs": [],
   "source": [
    "# Load the matlab generated wealth distribution\n",
    "df_g = pd.read_csv(r'ga_var.csv', header=None)\n",
    "df_a = pd.read_csv(r'a_var.csv', header=None)\n",
    "\n",
    "# Save as a numpy array\n",
    "g_bottom = df_g.to_numpy()\n",
    "w_bottom = df_a.to_numpy()\n",
    "g_bottom = np.array(g_bottom).ravel() # Remove outer brackets\n",
    "w_bottom = np.array(w_bottom).ravel()"
   ]
  },
  {
   "cell_type": "markdown",
   "metadata": {},
   "source": [
    "Manually add a right tail to the wealth distribution"
   ]
  },
  {
   "cell_type": "code",
   "execution_count": 158,
   "metadata": {},
   "outputs": [],
   "source": [
    "# Define variables\n",
    "alpha = 1.5\n",
    "mu = -0.3\n",
    "np.random.seed(214)"
   ]
  },
  {
   "cell_type": "code",
   "execution_count": 4,
   "metadata": {},
   "outputs": [],
   "source": [
    "C = g_bottom[-1] / 2000**(-alpha-1)\n",
    "tail_vals = np.linspace(w_bottom[-1],1_000_000, 100000)\n",
    "\n",
    "g_top = C*tail_vals**(-alpha-1) # alpha value 1.5"
   ]
  },
  {
   "cell_type": "markdown",
   "metadata": {},
   "source": [
    "Combine the two distributions and define grid of wealth levels associated with $g(w)$"
   ]
  },
  {
   "cell_type": "code",
   "execution_count": 5,
   "metadata": {},
   "outputs": [],
   "source": [
    "g = np.append(g_bottom[:-1], g_top)\n",
    "w = np.append(w_bottom[:-1], tail_vals)"
   ]
  },
  {
   "cell_type": "markdown",
   "metadata": {},
   "source": [
    "Test if i can normalize the distribution"
   ]
  },
  {
   "cell_type": "code",
   "execution_count": 6,
   "metadata": {},
   "outputs": [],
   "source": [
    "# Numeric integral over the support\n",
    "integral = np.dot(g,w)\n",
    "\n",
    "# Normalize\n",
    "# g = g / integral"
   ]
  },
  {
   "cell_type": "markdown",
   "metadata": {},
   "source": [
    "Plot the distribution of wealth"
   ]
  },
  {
   "cell_type": "code",
   "execution_count": 197,
   "metadata": {},
   "outputs": [
    {
     "data": {
      "image/png": "[encoded data removed]",
      "text/plain": [
       "<Figure size 432x288 with 1 Axes>"
      ]
     },
     "metadata": {
      "needs_background": "light"
     },
     "output_type": "display_data"
    }
   ],
   "source": [
    "fig = plt.figure(figsize=(6,4))\n",
    "ax = fig.add_subplot(1,1,1)\n",
    "\n",
    "ax.grid(b=True, which = 'major', linestyle='-', linewidth=0.5, color='0.9', zorder=0)\n",
    "ax.tick_params(axis='both', bottom=True, top=True, left=True, right=True, direction='in', which='both')\n",
    "\n",
    "ax.plot(w, g, color = '0.4', zorder = 2, label = r'$g(a)$')\n",
    "\n",
    "ax.set_xlim(-0.3,10)\n",
    "ax.set_ylim(0,0.35)\n",
    "\n",
    "ax.set_xlabel(r'Wealth, $w$')\n",
    "ax.set_ylabel(r'Density, $g(w)$')\n",
    "\n",
    "# ax.legend(frameon = True, edgecolor = 'k', facecolor = 'white', framealpha=1, fancybox=False)\n",
    "\n",
    "plt.savefig('../../tex/figs/model.pdf')"
   ]
  },
  {
   "cell_type": "code",
   "execution_count": 199,
   "metadata": {},
   "outputs": [
    {
     "data": {
      "image/png": "[encoded data removed]",
      "text/plain": [
       "<Figure size 432x288 with 1 Axes>"
      ]
     },
     "metadata": {
      "needs_background": "light"
     },
     "output_type": "display_data"
    }
   ],
   "source": [
    "fig = plt.figure(figsize=(6,4))\n",
    "ax = fig.add_subplot(1,1,1)\n",
    "\n",
    "ax.grid(b=True, which = 'major', linestyle='-', linewidth=0.5, color='0.9', zorder=0)\n",
    "ax.tick_params(axis='both', bottom=True, top=True, left=True, right=True, direction='in', which='both')\n",
    "\n",
    "ax.plot(w, g, color = '0.4', zorder = 2, label = r'$g(a)$')\n",
    "ax.set(xscale='log', yscale = 'log')\n",
    "\n",
    "ax.set_xlim(1e-2,1e+3)\n",
    "ax.set_ylim(1e-8,1)\n",
    "\n",
    "ax.set_xlabel(r'Wealth, $w$')\n",
    "ax.set_ylabel(r'Density, $g(w)$')\n",
    "\n",
    "# ax.legend(frameon = True, edgecolor = 'k', facecolor = 'white', framealpha=1, fancybox=False)\n",
    "\n",
    "plt.savefig('../../tex/figs/model_log.pdf')"
   ]
  },
  {
   "cell_type": "markdown",
   "metadata": {},
   "source": [
    "# Simulations"
   ]
  },
  {
   "cell_type": "markdown",
   "metadata": {},
   "source": [
    "**Draw from the asset distribution using rejection sampling**"
   ]
  },
  {
   "cell_type": "markdown",
   "metadata": {},
   "source": [
    "First generate the envelope density, $\\tilde{g}(w)$, then find $c = \\max \\frac{g(w)}{\\tilde{g}(w)} + \\varepsilon$ for some small $\\varepsilon$."
   ]
  },
  {
   "cell_type": "code",
   "execution_count": 8,
   "metadata": {},
   "outputs": [
    {
     "name": "stdout",
     "output_type": "stream",
     "text": [
      "1.04383186071944\n"
     ]
    }
   ],
   "source": [
    "# Generate envelope density\n",
    "density_pareto = funcs.den_pareto2(w, 1.5, np.min(w))\n",
    "\n",
    "# Find the ratio of the densities over the domain\n",
    "c = g/density_pareto\n",
    "\n",
    "# Find the maximal value and add small epsilon\n",
    "c_max = np.max(c) + 1e-5\n",
    "print(c_max)"
   ]
  },
  {
   "cell_type": "markdown",
   "metadata": {},
   "source": [
    "To draw random numbers from these distributions i need to interpolate between values.\n",
    "I use a linear interpolater for simplicity."
   ]
  },
  {
   "cell_type": "code",
   "execution_count": 9,
   "metadata": {},
   "outputs": [],
   "source": [
    "f = interpolate.interp1d(w,g, bounds_error = False, fill_value = 0)\n",
    "h = interpolate.interp1d(w,density_pareto, bounds_error = False, fill_value = 0)"
   ]
  },
  {
   "cell_type": "markdown",
   "metadata": {},
   "source": [
    "Run the rejection sampling algorithm just to test if everything works.\n",
    "THE TWO CELLE BELOW WILL BE REMOVED"
   ]
  },
  {
   "cell_type": "code",
   "execution_count": 120,
   "metadata": {},
   "outputs": [],
   "source": [
    "# Test function\n",
    "N = 50_000\n",
    "\n",
    "sample = funcs.act_rejct(N,c_max,h,f)"
   ]
  },
  {
   "cell_type": "code",
   "execution_count": 138,
   "metadata": {},
   "outputs": [
    {
     "data": {
      "image/png": "[encoded data removed]",
      "text/plain": [
       "<Figure size 432x288 with 1 Axes>"
      ]
     },
     "metadata": {
      "needs_background": "light"
     },
     "output_type": "display_data"
    }
   ],
   "source": [
    "fig = plt.figure(figsize=(6,4))\n",
    "ax = fig.add_subplot(1,1,1)\n",
    "\n",
    "ax.grid(b=True, which = 'major', linestyle='-', linewidth=0.5, color='0.9', zorder=0)\n",
    "ax.tick_params(axis='both', bottom=True, top=True, left=True, right=True, direction='in', which='both')\n",
    "\n",
    "ax.hist(sample, bins = np.linspace(np.min(w),2,500), density = True)\n",
    "ax.plot(w,g)\n",
    "\n",
    "ax.set_xlim(np.min(w),2)\n",
    "\n",
    "plt.show()"
   ]
  },
  {
   "cell_type": "markdown",
   "metadata": {},
   "source": [
    "**Run Monte Carlo experiment**"
   ]
  },
  {
   "cell_type": "code",
   "execution_count": 169,
   "metadata": {},
   "outputs": [],
   "source": [
    "# Parameters\n",
    "N = 10_000\n",
    "reps = 10_000\n",
    "\n",
    "# Initialize\n",
    "G_new = np.empty(shape=reps) # Improved estimator\n",
    "G_np = np.empty(shape=reps) # Non-parametric estimator\n",
    "\n",
    "# Loop over reps\n",
    "for j in range(reps):\n",
    "    \n",
    "    # Draw sample using accept-reject\n",
    "    sample = funcs.act_rejct(N,c_max,h,f)\n",
    "    \n",
    "    ## Compute nonparametric gini ## \n",
    "    \n",
    "    G_np[j] = funcs.gini(sample)\n",
    "    \n",
    "    ## Compute improved gini ##\n",
    "    \n",
    "    # The (1-p)'th percentile\n",
    "    P = 0.0025\n",
    "    u = np.percentile(sample,100*(1-P))\n",
    "    \n",
    "    # Compute s\n",
    "    x_low = sample[sample<u] # Is this needed?\n",
    "    E_low = np.mean(sample[sample<u])\n",
    "    S = alpha/(alpha-1)*u*P / (alpha/(alpha-1)*u*P + E_low * (1-P))\n",
    "\n",
    "    # Compute the Gini for top and bottom of sample\n",
    "    G_high = 1/(2*alpha-1)\n",
    "    G_low = funcs.gini(sample[sample<u])\n",
    "    \n",
    "    # Collect these\n",
    "    G_new[j] = G_high*P*S + G_low*(1-P)*(1-S) + S - P"
   ]
  },
  {
   "cell_type": "markdown",
   "metadata": {},
   "source": [
    "Plot the resulting distribution of Gini coefficient estimators"
   ]
  },
  {
   "cell_type": "code",
   "execution_count": 330,
   "metadata": {},
   "outputs": [
    {
     "data": {
      "image/png": "[encoded data removed]",
      "text/plain": [
       "<Figure size 432x288 with 1 Axes>"
      ]
     },
     "metadata": {
      "needs_background": "light"
     },
     "output_type": "display_data"
    }
   ],
   "source": [
    "fig = plt.figure(figsize=(6,4))\n",
    "ax = fig.add_subplot(1,1,1)\n",
    "\n",
    "ax.grid(b=True, which = 'major', linestyle='-', linewidth=0.5, color='0.9', zorder=0)\n",
    "ax.tick_params(axis='both', bottom=True, top=True, left=True, right=True, direction='in', which='both')\n",
    "\n",
    "ax.hist(G_new, density = True, bins = 150, color = 'red', alpha = 0.7, zorder = 2, label='Semiparametric',  histtype='stepfilled')\n",
    "ax.hist(G_np, density = True, bins = 150, color = 'blue', alpha = 0.7, zorder = 2, label='Nonparametric',  histtype='stepfilled')\n",
    "\n",
    "# ax.set_ylim(0,100)\n",
    "# ax.set_xlim(0.65,1)\n",
    "\n",
    "ax.set_xlabel(r'Estimated Gini coefficient')\n",
    "ax.set_ylabel(r'Density')\n",
    "\n",
    "ax.legend(frameon = True, edgecolor = 'k', facecolor = 'white', framealpha=1, fancybox=False)\n",
    "\n",
    "plt.savefig('../../tex/figs/model_estimator.pdf')"
   ]
  },
  {
   "cell_type": "markdown",
   "metadata": {},
   "source": [
    "# Create Time seris of estimates"
   ]
  },
  {
   "cell_type": "code",
   "execution_count": 266,
   "metadata": {},
   "outputs": [
    {
     "data": {
      "image/png": "[encoded data removed]",
      "text/plain": [
       "<Figure size 432x288 with 1 Axes>"
      ]
     },
     "metadata": {
      "needs_background": "light"
     },
     "output_type": "display_data"
    }
   ],
   "source": [
    "mu = 1\n",
    "n = 50\n",
    "dt = 1.0\n",
    "x0 = 100\n",
    "np.random.seed(1)\n",
    "\n",
    "sigma = np.arange(0.8, 2, 0.2)\n",
    "\n",
    "# Using Itos solution\n",
    "x = np.exp(\n",
    "    (mu - sigma ** 2 / 2) * dt\n",
    "    + sigma * np.random.normal(0, np.sqrt(dt), size=(len(sigma), n)).T\n",
    ")\n",
    "x = np.vstack([np.ones(len(sigma)), x])\n",
    "x = x0 * x.cumprod(axis=0)\n",
    "\n",
    "plt.plot(x)\n",
    "plt.legend(np.round(sigma, 2))\n",
    "plt.xlabel(\"$t$\")\n",
    "plt.ylabel(\"$x$\")\n",
    "plt.title(\n",
    "    \"Realizations of Geometric Brownian Motion with different variances\\n $\\mu=1$\"\n",
    ")\n",
    "plt.show()"
   ]
  },
  {
   "cell_type": "code",
   "execution_count": 294,
   "metadata": {},
   "outputs": [],
   "source": [
    "# Set parameter values\n",
    "lamdaa = 0.5\n",
    "gamma = 0.2\n",
    "rho = 0.05\n",
    "R = 0.051\n",
    "r = 0.041\n",
    "zeta = 1.5\n",
    "sigma2 = (zeta/gamma + 1)/2*(R-r)**2/(rho - r)\n",
    "sigma = sigma2**(1/2)\n",
    "\n",
    "z1 = .01\n",
    "z2 = 3*z1"
   ]
  },
  {
   "cell_type": "markdown",
   "metadata": {},
   "source": [
    "Create policy functions by interpolation"
   ]
  },
  {
   "cell_type": "code",
   "execution_count": 247,
   "metadata": {},
   "outputs": [],
   "source": [
    "# Load policy functions\n",
    "df_b = pd.read_csv(r'saving.csv', header=None)\n",
    "df_k = pd.read_csv(r'risky.csv', header=None)\n",
    "\n",
    "\n",
    "# Save as a numpy array\n",
    "adot = df_b.to_numpy().transpose() # Rows are now types, columns are asset levels\n",
    "k = df_k.to_numpy().transpose()"
   ]
  },
  {
   "cell_type": "code",
   "execution_count": 248,
   "metadata": {},
   "outputs": [],
   "source": [
    "adot_interp_1 = interpolate.RegularGridInterpolator([w_bottom], adot[0,:], bounds_error=False,fill_value=None)\n",
    "adot_interp_2 = interpolate.RegularGridInterpolator([w_bottom], adot[1,:], bounds_error=False,fill_value=None)\n",
    "k_interp_1 = interpolate.RegularGridInterpolator([w_bottom], k[0,:], bounds_error=False,fill_value=None)\n",
    "k_interp_2 = interpolate.RegularGridInterpolator([w_bottom], k[1,:], bounds_error=False,fill_value=None)"
   ]
  },
  {
   "cell_type": "markdown",
   "metadata": {},
   "source": [
    "Run Monte Carlo"
   ]
  },
  {
   "cell_type": "code",
   "execution_count": 325,
   "metadata": {},
   "outputs": [],
   "source": [
    "# Set simulation parameters\n",
    "N = 5000\n",
    "T = 1000\n",
    "\n",
    "theta = (R-r)/(gamma*sigma2) # Share of risky assets\n",
    "\n",
    "# Load agents from the stationary wealth distribution\n",
    "wealth = funcs.act_rejct(N,c_max,h,f)\n",
    "\n",
    "# Loop over time\n",
    "for t in range(T):\n",
    "    \n",
    "    # Riskless return\n",
    "    riskless_next = (1+r)*wealth\n",
    "    risky_next = (z1+z2)/2 + (1 + R - sigma2/2 + sigma*np.random.normal(0,1,size=len(wealth)))*wealth\n",
    "    \n",
    "    # Combine with shares\n",
    "    wealth = (1-theta)*riskless_next + theta*risky_next"
   ]
  },
  {
   "cell_type": "code",
   "execution_count": 326,
   "metadata": {},
   "outputs": [
    {
     "data": {
      "text/plain": [
       "1.6580272106393706e+16"
      ]
     },
     "execution_count": 326,
     "metadata": {},
     "output_type": "execute_result"
    }
   ],
   "source": [
    "np.max(wealth)"
   ]
  },
  {
   "cell_type": "code",
   "execution_count": 322,
   "metadata": {},
   "outputs": [
    {
     "data": {
      "image/png": "[encoded data removed]",
      "text/plain": [
       "<Figure size 432x288 with 1 Axes>"
      ]
     },
     "metadata": {
      "needs_background": "light"
     },
     "output_type": "display_data"
    }
   ],
   "source": [
    "plt.hist(wealth, bins = 150)\n",
    "# plt.xlim(0,100)\n",
    "plt.show()"
   ]
  },
  {
   "cell_type": "code",
   "execution_count": 295,
   "metadata": {},
   "outputs": [],
   "source": [
    "# Set simulation parameters\n",
    "N = 2000\n",
    "T = 5000\n",
    "\n",
    "# Load agents from the stationary wealth distribution\n",
    "sample = funcs.act_rejct(N,c_max,h,f)\n",
    "\n",
    "# Loop over time periods\n",
    "for t in range(T):\n",
    "    \n",
    "    # Draw stochastic numbers\n",
    "    shift_rand = np.random.uniform(0,1,size=len(sample)) # Income type\n",
    "    return_rand = sigma*np.random.normal(0,1,size=len(sample)) # Risky excess return\n",
    "    \n",
    "    # Compute next periods wealth\n",
    "    k_next_1 = k_interp_1(sample[shift_rand < 0.5])*return_rand[shift_rand < 0.5]\n",
    "    k_next_2 = k_interp_2(sample[shift_rand >= 0.5])*return_rand[shift_rand >= 0.5]\n",
    "    \n",
    "    wealth_next_1 = z1 + 1 + adot_interp_1(sample[shift_rand < 0.5]) + k_next_1\n",
    "    wealth_next_2 = z2 + 1 + adot_interp_1(sample[shift_rand >= 0.5 ]) + k_next_2\n",
    "    \n",
    "    # Update sample\n",
    "    sample[shift_rand < 0.5] = wealth_next_1\n",
    "    sample[shift_rand >= 0.5] = wealth_next_2"
   ]
  },
  {
   "cell_type": "code",
   "execution_count": 296,
   "metadata": {},
   "outputs": [
    {
     "data": {
      "image/png": "[encoded data removed]",
      "text/plain": [
       "<Figure size 432x288 with 1 Axes>"
      ]
     },
     "metadata": {
      "needs_background": "light"
     },
     "output_type": "display_data"
    }
   ],
   "source": [
    "plt.hist(sample, bins = 20)\n",
    "plt.show()"
   ]
  }
 ],
 "metadata": {
  "kernelspec": {
   "display_name": "Python 3",
   "language": "python",
   "name": "python3"
  },
  "language_info": {
   "codemirror_mode": {
    "name": "ipython",
    "version": 3
   },
   "file_extension": ".py",
   "mimetype": "text/x-python",
   "name": "python",
   "nbconvert_exporter": "python",
   "pygments_lexer": "ipython3",
   "version": "3.7.4"
  }
 },
 "nbformat": 4,
 "nbformat_minor": 4
}
