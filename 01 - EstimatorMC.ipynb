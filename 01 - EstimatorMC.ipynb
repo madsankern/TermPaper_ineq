{
 "cells": [
  {
   "cell_type": "markdown",
   "metadata": {},
   "source": [
    "# Monte Carlo Simulation of the Nonparametric and Semiparametric Estimators"
   ]
  },
  {
   "cell_type": "code",
   "execution_count": 1,
   "metadata": {},
   "outputs": [],
   "source": [
    "# load general packages\n",
    "import numpy as np\n",
    "import matplotlib.pyplot as plt\n",
    "from scipy import stats\n",
    "import numba as nb\n",
    "\n",
    "# Import user package\n",
    "import functions as funcs\n",
    "\n",
    "## Uncomment for nicer plots ##\n",
    "plt.rc('font', family='serif')\n",
    "plt.rc('text', usetex=True)\n",
    "plt.rc('axes', axisbelow=True)"
   ]
  },
  {
   "cell_type": "code",
   "execution_count": 2,
   "metadata": {},
   "outputs": [],
   "source": [
    "# Set seed once\n",
    "np.seed = 200"
   ]
  },
  {
   "cell_type": "code",
   "execution_count": 4,
   "metadata": {},
   "outputs": [],
   "source": [
    "# Set Monte Carlo parameters\n",
    "reps = 10_000 # Repetitions\n",
    "n = 50_000 # Size of each sample"
   ]
  },
  {
   "cell_type": "markdown",
   "metadata": {},
   "source": [
    "For $\\alpha = 1.5$"
   ]
  },
  {
   "cell_type": "code",
   "execution_count": 5,
   "metadata": {},
   "outputs": [],
   "source": [
    "# Set distribution parameters\n",
    "alpha_1 = 1.5\n",
    "mu = 0.0\n",
    "\n",
    "# Initialize\n",
    "G_vec_1 = np.zeros(shape=reps)\n",
    "G_nonparam_vec_1 = np.zeros(shape=reps)\n",
    "\n",
    "# Loop over replications for now\n",
    "for rep in range(reps):\n",
    "    \n",
    "    # Draw values\n",
    "    rand = np.random.uniform(0,1, size=n)\n",
    "    x = mu - 1 + (1 - rand)**(-1/alpha_1)\n",
    "    \n",
    "    # Compute p\n",
    "    P = 0.01\n",
    "    u = np.percentile(x,100*(1-P))\n",
    "\n",
    "    # Estmate alpha\n",
    "    N_1 = np.size(x[x>=u])    \n",
    "    alpha_hat = N_1 / (np.sum(np.log(x[x>u])) - N_1*np.log(u))\n",
    "    \n",
    "    # Compute S\n",
    "    x_low = x[x<u] # Is this needed?\n",
    "    E_low = np.mean(x[x<u])\n",
    "    S = alpha_hat/(alpha_hat-1)*u*P / (alpha_hat/(alpha_hat-1)*u*P + E_low * (1-P))\n",
    "    S_alvaredo = np.mean(x[x>=u]) / (np.mean(x[x>=u]) + E_low) # Numerical top income share\n",
    "\n",
    "    # Compute the Gini coefficients with both methods\n",
    "    G_high = 1/(2*alpha_hat-1)\n",
    "    G_low = funcs.gini(x[x<u])\n",
    "    \n",
    "    G = G_high*P*S + G_low*(1-P)*(1-S) + S - P\n",
    "    G_nonparam = funcs.gini(x)\n",
    "    \n",
    "    # Save values\n",
    "    G_vec_1[rep] = G\n",
    "    G_nonparam_vec_1[rep] = G_nonparam"
   ]
  },
  {
   "cell_type": "markdown",
   "metadata": {},
   "source": [
    "Plot the results"
   ]
  },
  {
   "cell_type": "code",
   "execution_count": 16,
   "metadata": {},
   "outputs": [
    {
     "data": {
      "image/png": "[encoded data removed]",
      "text/plain": [
       "<Figure size 432x288 with 1 Axes>"
      ]
     },
     "metadata": {
      "needs_background": "light"
     },
     "output_type": "display_data"
    }
   ],
   "source": [
    "# Compute the true gini\n",
    "eta_1 = mu-1 + alpha_1/(alpha_1-1)\n",
    "G_true_1 = 1 - 2/eta_1 * ( (mu-1)/2 + alpha_1/(alpha_1-1)*(1 - alpha_1/(2*alpha_1-1)))\n",
    "\n",
    "# Plot\n",
    "fig = plt.figure(figsize=(6,4))\n",
    "ax = fig.add_subplot(1,1,1)\n",
    "\n",
    "ax.grid(b=True, which = 'major', linestyle='-', linewidth=0.5, color='0.9', zorder=0)\n",
    "ax.tick_params(axis='both', bottom=True, top=True, left=True, right=True, direction='in', which='both')\n",
    "\n",
    "ax.hist(G_vec_1, density = True, bins = np.linspace(.7,.85,200), color = 'red', alpha = 0.7, zorder = 2, label='Semiparametric', histtype='stepfilled')\n",
    "ax.hist(G_nonparam_vec_1, density = True, bins = np.linspace(.7,.85,200), color = 'blue', alpha = 0.7, zorder = 2, label='Nonparametric', histtype='stepfilled')\n",
    "\n",
    "ax.vlines(G_true_1, ymin=0,ymax=100, linestyle = '-', linewidth = 1.0, label='True Value', zorder=3)\n",
    "ax.set_ylim(0,60)\n",
    "ax.set_xlim(0.7,.85)\n",
    "\n",
    "ax.legend(frameon = True, edgecolor = 'k', facecolor = 'white', framealpha=1, fancybox=False)\n",
    "\n",
    "plt.savefig('../../tex/figs/estimator_15.pdf')"
   ]
  },
  {
   "cell_type": "markdown",
   "metadata": {},
   "source": [
    "Compute kernel density"
   ]
  },
  {
   "cell_type": "code",
   "execution_count": 49,
   "metadata": {},
   "outputs": [],
   "source": [
    "# First compute the mode using kernel density\n",
    "kd_nonparam_1 = stats.gaussian_kde(G_nonparam_vec_1)\n",
    "kd_semiparam_1 = stats.gaussian_kde(G_vec_1)\n",
    "\n",
    "# Define point on which to evaluate the estimated pdf's\n",
    "points_1 = np.linspace(.71,.85,200)\n",
    "kd_11 = kd_nonparam_1.pdf(points)\n",
    "kd_12 = kd_semiparam_1.pdf(points)"
   ]
  },
  {
   "cell_type": "code",
   "execution_count": 67,
   "metadata": {},
   "outputs": [
    {
     "data": {
      "image/png": "[encoded data removed]",
      "text/plain": [
       "<Figure size 432x288 with 1 Axes>"
      ]
     },
     "metadata": {
      "needs_background": "light"
     },
     "output_type": "display_data"
    }
   ],
   "source": [
    "# Plot results\n",
    "# Plot\n",
    "fig = plt.figure(figsize=(6,4))\n",
    "ax = fig.add_subplot(1,1,1)\n",
    "\n",
    "ax.grid(b=True, which = 'major', linestyle='-', linewidth=0.5, color='0.9', zorder=0)\n",
    "ax.tick_params(axis='both', bottom=True, top=True, left=True, right=True, direction='in', which='both')\n",
    "\n",
    "ax.plot(points_1, kd_11, color = 'blue', linestyle ='-', zorder = 2, linewidth=1.5, label = 'Nonparametric')\n",
    "ax.plot(points_1, kd_12, color = 'red', linestyle = '-', zorder = 2, linewidth = 1.5, label = 'Semiparametric')\n",
    "\n",
    "ax.vlines(G_true_1, ymin=0,ymax=100, linestyle = '-', linewidth = 1.0, label='True Value', zorder=3)\n",
    "ax.set_ylim(0,60)\n",
    "ax.set_xlim(0.7,.85)\n",
    "\n",
    "ax.legend(frameon = True, edgecolor = 'k', facecolor = 'white', framealpha=1, fancybox=False)\n",
    "\n",
    "plt.savefig('../../tex/figs/kd_1.pdf')"
   ]
  },
  {
   "cell_type": "code",
   "execution_count": 68,
   "metadata": {},
   "outputs": [
    {
     "data": {
      "text/plain": [
       "0.7430653266331658"
      ]
     },
     "execution_count": 68,
     "metadata": {},
     "output_type": "execute_result"
    }
   ],
   "source": [
    "# Compute mode\n",
    "mode_nonparam_1 = points_1[np.argmax(kd_11)]\n",
    "mode_semiparam_1 = points_1[np.argmax(kd_12)]"
   ]
  },
  {
   "cell_type": "markdown",
   "metadata": {},
   "source": [
    "Compute summary statistics"
   ]
  },
  {
   "cell_type": "code",
   "execution_count": 54,
   "metadata": {},
   "outputs": [
    {
     "name": "stdout",
     "output_type": "stream",
     "text": [
      "Nonparam bias = -0.0018597624801071078\n",
      "Semiparam bias = 0.002628326715806817\n",
      "Nonparam bias (mode) = -0.0069346733668341765\n",
      "Semiparam bias (mode) = 0.00010050251256277232\n",
      "Nonparam variance = 0.01533912639731005\n",
      "Semiparam variance = 0.008577228784523399\n",
      "Nonparam skewness = 3.920432265624547\n",
      "Semiparam skewness = 0.468590213803735\n"
     ]
    }
   ],
   "source": [
    "print('Nonparam bias = ' + str(np.mean(G_nonparam_vec_1) - G_true_1))\n",
    "print('Semiparam bias = ' + str(np.mean(G_vec_1) - G_true_1))\n",
    "\n",
    "print('Nonparam bias (mode) = ' + str(mode_nonparam_1 - G_true_1))\n",
    "print('Semiparam bias (mode) = ' + str(mode_semiparam_1 - G_true_1))\n",
    "\n",
    "print('Nonparam variance = ' + str(np.std(G_nonparam_vec_1)))\n",
    "print('Semiparam variance = ' + str(np.std(G_vec_1)))\n",
    "\n",
    "print('Nonparam skewness = ' + str(stats.skew(G_nonparam_vec_1)))\n",
    "print('Semiparam skewness = ' + str(stats.skew(G_vec_1)))"
   ]
  },
  {
   "cell_type": "markdown",
   "metadata": {},
   "source": [
    "**See if I can compute the mode somehow**"
   ]
  },
  {
   "cell_type": "markdown",
   "metadata": {},
   "source": [
    "For $\\alpha = 1.2$"
   ]
  },
  {
   "cell_type": "code",
   "execution_count": 69,
   "metadata": {},
   "outputs": [],
   "source": [
    "# Set distribution parameters\n",
    "alpha_2 = 1.2\n",
    "mu = 0.0\n",
    "\n",
    "# Initialize\n",
    "G_vec_2 = np.zeros(shape=reps)\n",
    "G_nonparam_vec_2 = np.zeros(shape=reps)\n",
    "\n",
    "# Loop over replications for now\n",
    "for rep in range(reps):\n",
    "    \n",
    "    # Draw values\n",
    "    rand = np.random.uniform(0,1, size=n)\n",
    "    x = mu - 1 + (1 - rand)**(-1/alpha_2)\n",
    "    \n",
    "    # Compute p\n",
    "    P = 0.01\n",
    "    u = np.percentile(x,100*(1-P))\n",
    "\n",
    "    # Estmate alpha\n",
    "    N_1 = np.size(x[x>=u])    \n",
    "    alpha_hat = N_1 / (np.sum(np.log(x[x>u])) - N_1*np.log(u))\n",
    "    \n",
    "    # Compute S\n",
    "    x_low = x[x<u] # Is this needed?\n",
    "    E_low = np.mean(x[x<u])\n",
    "    S = alpha_hat/(alpha_hat-1)*u*P / (alpha_hat/(alpha_hat-1)*u*P + E_low * (1-P))\n",
    "    S_alvaredo = np.mean(x[x>=u]) / (np.mean(x[x>=u]) + E_low) # Numerical top income share\n",
    "\n",
    "    # Compute the Gini coefficients with both methods\n",
    "    G_high = 1/(2*alpha_hat-1)\n",
    "    G_low = funcs.gini(x[x<u])\n",
    "    \n",
    "    G = G_high*P*S + G_low*(1-P)*(1-S) + S - P\n",
    "    G_nonparam = funcs.gini(x)\n",
    "    \n",
    "    # Save values\n",
    "    G_vec_2[rep] = G\n",
    "    G_nonparam_vec_2[rep] = G_nonparam"
   ]
  },
  {
   "cell_type": "markdown",
   "metadata": {},
   "source": [
    "Plot the results"
   ]
  },
  {
   "cell_type": "code",
   "execution_count": 70,
   "metadata": {},
   "outputs": [
    {
     "data": {
      "image/png": "[encoded data removed]",
      "text/plain": [
       "<Figure size 432x288 with 1 Axes>"
      ]
     },
     "metadata": {
      "needs_background": "light"
     },
     "output_type": "display_data"
    }
   ],
   "source": [
    "# Compute the true gini\n",
    "eta_2 = mu-1 + alpha_2/(alpha_2-1)\n",
    "G_true_2 = 1 - 2/eta_2 * ( (mu-1)/2 + alpha_2/(alpha_2-1)*(1 - alpha_2/(2*alpha_2-1)))\n",
    "\n",
    "# Plot\n",
    "fig = plt.figure(figsize=(6,4))\n",
    "ax = fig.add_subplot(1,1,1)\n",
    "\n",
    "ax.grid(b=True, which = 'major', linestyle='-', linewidth=0.5, color='0.9', zorder=0)\n",
    "ax.tick_params(axis='both', bottom=True, top=True, left=True, right=True, direction='in', which='both')\n",
    "\n",
    "ax.hist(G_vec_2, density = True, bins = np.linspace(.75,1,200), color = 'red', alpha = 0.7, zorder = 2, label='Semiparametric', histtype='stepfilled')\n",
    "ax.hist(G_nonparam_vec_2, density = True, bins =  np.linspace(.75,1,200), color = 'blue', alpha = 0.7, zorder = 2, label='Nonparametric', histtype='stepfilled')\n",
    "\n",
    "ax.vlines(G_true_2, ymin=0,ymax=100, linestyle = '-', linewidth = 1.0, label='True Value', zorder=3)\n",
    "ax.set_ylim(0,30)\n",
    "ax.set_xlim(0.75,1)\n",
    "\n",
    "ax.legend(frameon = True, edgecolor = 'k', facecolor = 'white', framealpha=1, fancybox=False)\n",
    "\n",
    "plt.savefig('../../tex/figs/estimator_12.pdf')"
   ]
  },
  {
   "cell_type": "code",
   "execution_count": 76,
   "metadata": {},
   "outputs": [],
   "source": [
    "# First compute the mode using kernel density\n",
    "kd_nonparam_2 = stats.gaussian_kde(G_nonparam_vec_2)\n",
    "kd_semiparam_2 = stats.gaussian_kde(G_vec_2)\n",
    "\n",
    "# Define point on which to evaluate the estimated pdf's\n",
    "points_2 = np.linspace(.75,1,200)\n",
    "kd_21 = kd_nonparam_2.pdf(points_2)\n",
    "kd_22 = kd_semiparam_2.pdf(points_2)"
   ]
  },
  {
   "cell_type": "code",
   "execution_count": 80,
   "metadata": {},
   "outputs": [
    {
     "data": {
      "image/png": "[encoded data removed]",
      "text/plain": [
       "<Figure size 432x288 with 1 Axes>"
      ]
     },
     "metadata": {
      "needs_background": "light"
     },
     "output_type": "display_data"
    }
   ],
   "source": [
    "# Plot results\n",
    "# Plot\n",
    "fig = plt.figure(figsize=(6,4))\n",
    "ax = fig.add_subplot(1,1,1)\n",
    "\n",
    "ax.grid(b=True, which = 'major', linestyle='-', linewidth=0.5, color='0.9', zorder=0)\n",
    "ax.tick_params(axis='both', bottom=True, top=True, left=True, right=True, direction='in', which='both')\n",
    "\n",
    "ax.plot(points_2, kd_21, color = 'blue', linestyle ='-', zorder = 2, linewidth=1.5, label = 'Nonparametric')\n",
    "ax.plot(points_2, kd_22, color = 'red', linestyle = '-', zorder = 2, linewidth = 1.5, label = 'Semiparametric')\n",
    "\n",
    "ax.vlines(G_true_2, ymin=0,ymax=100, linestyle = '-', linewidth = 1.0, label='True Value', zorder=3)\n",
    "ax.set_ylim(0,30)\n",
    "ax.set_xlim(0.75,1)\n",
    "\n",
    "ax.legend(frameon = True, edgecolor = 'k', facecolor = 'white', framealpha=1, fancybox=False)\n",
    "\n",
    "plt.savefig('../../tex/figs/kd_2.pdf')"
   ]
  },
  {
   "cell_type": "code",
   "execution_count": 78,
   "metadata": {},
   "outputs": [],
   "source": [
    "# Compute mode\n",
    "mode_nonparam_2 = points_2[np.argmax(kd_21)]\n",
    "mode_semiparam_2 = points_2[np.argmax(kd_22)]"
   ]
  },
  {
   "cell_type": "code",
   "execution_count": 79,
   "metadata": {},
   "outputs": [
    {
     "name": "stdout",
     "output_type": "stream",
     "text": [
      "Nonparam bias = -0.017410439265306055\n",
      "Semiparam bias = 0.005315192861668483\n",
      "Nonparam bias (mode) = -0.029253409906676464\n",
      "Semiparam bias (mode) = 0.0008973438621677765\n",
      "Nonparam variance = 0.026030803086283336\n",
      "Semiparam variance = 0.020248307353577407\n",
      "Nonparam skewness = 2.0481043843392492\n",
      "Semiparam skewness = 0.7135023025704469\n"
     ]
    }
   ],
   "source": [
    "print('Nonparam bias = ' + str(np.mean(G_nonparam_vec_2) - G_true_2))\n",
    "print('Semiparam bias = ' + str(np.mean(G_vec_2) - G_true_2))\n",
    "\n",
    "print('Nonparam bias (mode) = ' + str(mode_nonparam_2 - G_true_2))\n",
    "print('Semiparam bias (mode) = ' + str(mode_semiparam_2 - G_true_2))\n",
    "\n",
    "print('Nonparam variance = ' + str(np.std(G_nonparam_vec_2)))\n",
    "print('Semiparam variance = ' + str(np.std(G_vec_2)))\n",
    "\n",
    "print('Nonparam skewness = ' + str(stats.skew(G_nonparam_vec_2)))\n",
    "print('Semiparam skewness = ' + str(stats.skew(G_vec_2)))"
   ]
  }
 ],
 "metadata": {
  "kernelspec": {
   "display_name": "Python 3",
   "language": "python",
   "name": "python3"
  },
  "language_info": {
   "codemirror_mode": {
    "name": "ipython",
    "version": 3
   },
   "file_extension": ".py",
   "mimetype": "text/x-python",
   "name": "python",
   "nbconvert_exporter": "python",
   "pygments_lexer": "ipython3",
   "version": "3.7.4"
  }
 },
 "nbformat": 4,
 "nbformat_minor": 4
}
