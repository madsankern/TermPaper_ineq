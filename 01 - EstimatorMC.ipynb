{
 "cells": [
  {
   "cell_type": "code",
   "execution_count": 1,
   "metadata": {},
   "outputs": [],
   "source": [
    "# load general packages\n",
    "import numpy as np\n",
    "import matplotlib.pyplot as plt\n",
    "from scipy import stats\n",
    "import numba as nb\n",
    "\n",
    "# Import user package\n",
    "import functions as funcs\n",
    "\n",
    "## Uncomment for nicer plots ##\n",
    "plt.rc('font', family='serif')\n",
    "plt.rc('text', usetex=True)\n",
    "plt.rc('axes', axisbelow=True)"
   ]
  },
  {
   "cell_type": "code",
   "execution_count": 2,
   "metadata": {},
   "outputs": [],
   "source": [
    "# Set seed once\n",
    "np.seed = 200"
   ]
  },
  {
   "cell_type": "code",
   "execution_count": 3,
   "metadata": {},
   "outputs": [],
   "source": [
    "N = 10_000_000\n",
    "alpha = 1.2\n",
    "mu = -0.3\n",
    "\n",
    "rand = np.random.uniform(0,1, size=N)\n",
    "x = mu + (1 - rand)**(-1/alpha)"
   ]
  },
  {
   "cell_type": "code",
   "execution_count": 4,
   "metadata": {},
   "outputs": [
    {
     "data": {
      "text/plain": [
       "82.23175118081943"
      ]
     },
     "execution_count": 4,
     "metadata": {},
     "output_type": "execute_result"
    }
   ],
   "source": [
    "P = 0.005\n",
    "u = np.percentile(x,100*(1-P))\n",
    "u"
   ]
  },
  {
   "cell_type": "code",
   "execution_count": 8,
   "metadata": {},
   "outputs": [],
   "source": [
    "# Compute u when P = 0.01\n",
    "# i.e. the 99th percentile of the distribution\n",
    "P = 0.01\n",
    "u = np.percentile(x,100*(1-P))\n",
    "\n",
    "# Compute S\n",
    "x_low = x[x<u]\n",
    "E_low = np.mean(x[x<u])\n",
    "S = alpha/(alpha-1)*u*P / (alpha/(alpha-1)*u*P + E_low * (1-P))"
   ]
  },
  {
   "cell_type": "code",
   "execution_count": 9,
   "metadata": {},
   "outputs": [],
   "source": [
    "# Compute Gini of top group\n",
    "G_top = 1/(2*alpha-1)"
   ]
  },
  {
   "cell_type": "markdown",
   "metadata": {},
   "source": [
    "Optimal function for gini coefficient here"
   ]
  },
  {
   "cell_type": "code",
   "execution_count": 13,
   "metadata": {},
   "outputs": [],
   "source": [
    "def gini(x, w=None):\n",
    "    # The rest of the code requires numpy arrays.\n",
    "    x = np.asarray(x)\n",
    "    if w is not None:\n",
    "        w = np.asarray(w)\n",
    "        sorted_indices = np.argsort(x)\n",
    "        sorted_x = x[sorted_indices]\n",
    "        sorted_w = w[sorted_indices]\n",
    "        # Force float dtype to avoid overflows\n",
    "        cumw = np.cumsum(sorted_w, dtype=float)\n",
    "        cumxw = np.cumsum(sorted_x * sorted_w, dtype=float)\n",
    "        return (np.sum(cumxw[1:] * cumw[:-1] - cumxw[:-1] * cumw[1:]) / \n",
    "                (cumxw[-1] * cumw[-1]))\n",
    "    else:\n",
    "        sorted_x = np.sort(x)\n",
    "        n = len(x)\n",
    "        cumx = np.cumsum(sorted_x, dtype=float)\n",
    "        # The above formula, with all weights equal to 1 simplifies to:\n",
    "        return (n + 1 - 2 * np.sum(cumx) / cumx[-1]) / n"
   ]
  },
  {
   "cell_type": "code",
   "execution_count": 84,
   "metadata": {},
   "outputs": [],
   "source": [
    "# Test loop\n",
    "reps = 10_000\n",
    "n = 50_000\n",
    "u_vec = np.zeros(shape=reps)\n",
    "alpha_hat = np.zeros(shape=reps)\n",
    "\n",
    "alpha = 1.5\n",
    "mu = 0\n",
    "\n",
    "for rep in range(reps):\n",
    "    \n",
    "    # Draw values\n",
    "    rand = np.random.uniform(0,1, size=n)\n",
    "    x = mu + (1 - rand)**(-1/alpha)\n",
    "    \n",
    "    # Estimate tail\n",
    "    P = 0.01\n",
    "    u = np.percentile(x,100*(1-P))\n",
    "    \n",
    "    N_1 = np.size(x[x>=u])    \n",
    "    alpha_hat[rep] = N_1 / (np.sum(np.log(x[x>u])) - N_1*np.log(u))"
   ]
  },
  {
   "cell_type": "code",
   "execution_count": 85,
   "metadata": {},
   "outputs": [
    {
     "data": {
      "image/png": "[encoded data removed]",
      "text/plain": [
       "<Figure size 432x288 with 1 Axes>"
      ]
     },
     "metadata": {
      "needs_background": "light"
     },
     "output_type": "display_data"
    }
   ],
   "source": [
    "plt.hist(alpha_hat, bins=200, density=True)\n",
    "plt.show()"
   ]
  },
  {
   "cell_type": "code",
   "execution_count": 88,
   "metadata": {},
   "outputs": [
    {
     "data": {
      "text/plain": [
       "0.15340179876681187"
      ]
     },
     "execution_count": 88,
     "metadata": {},
     "output_type": "execute_result"
    }
   ],
   "source": [
    "stats.skew(alpha_hat)"
   ]
  },
  {
   "cell_type": "markdown",
   "metadata": {},
   "source": [
    "**Run Monte Carlo experiment from here**"
   ]
  },
  {
   "cell_type": "markdown",
   "metadata": {},
   "source": [
    "Monte Carlo experiment for the non-parametric and semi-parametric estimator"
   ]
  },
  {
   "cell_type": "code",
   "execution_count": 3,
   "metadata": {},
   "outputs": [],
   "source": [
    "# Set Monte Carlo parameters\n",
    "reps = 10_000\n",
    "n = 50_000"
   ]
  },
  {
   "cell_type": "markdown",
   "metadata": {},
   "source": [
    "For $\\alpha = 1.5$"
   ]
  },
  {
   "cell_type": "code",
   "execution_count": 5,
   "metadata": {},
   "outputs": [],
   "source": [
    "# Set distribution parameters\n",
    "alpha_1 = 1.5\n",
    "mu = 0.0\n",
    "\n",
    "# Initialize\n",
    "G_vec_1 = np.zeros(shape=reps)\n",
    "G_nonparam_vec_1 = np.zeros(shape=reps)\n",
    "\n",
    "# Loop over replications for now\n",
    "for rep in range(reps):\n",
    "    \n",
    "    # Draw values\n",
    "    rand = np.random.uniform(0,1, size=n)\n",
    "    x = mu - 1 + (1 - rand)**(-1/alpha_1)\n",
    "    \n",
    "    # Compute p\n",
    "    P = 0.01\n",
    "    u = np.percentile(x,100*(1-P))\n",
    "\n",
    "    # Estmate alpha\n",
    "    N_1 = np.size(x[x>=u])    \n",
    "    alpha_hat = N_1 / (np.sum(np.log(x[x>u])) - N_1*np.log(u))\n",
    "    \n",
    "    # Compute S\n",
    "    x_low = x[x<u] # Is this needed?\n",
    "    E_low = np.mean(x[x<u])\n",
    "    S = alpha_hat/(alpha_hat-1)*u*P / (alpha_hat/(alpha_hat-1)*u*P + E_low * (1-P))\n",
    "    S_alvaredo = np.mean(x[x>=u]) / (np.mean(x[x>=u]) + E_low) # Numerical top income share\n",
    "\n",
    "    # Compute the Gini coefficients with both methods\n",
    "    G_high = 1/(2*alpha_hat-1)\n",
    "    G_low = funcs.gini(x[x<u])\n",
    "    \n",
    "    G = G_high*P*S + G_low*(1-P)*(1-S) + S - P\n",
    "    G_nonparam = funcs.gini(x)\n",
    "    \n",
    "    # Save values\n",
    "    G_vec_1[rep] = G\n",
    "    G_nonparam_vec_1[rep] = G_nonparam"
   ]
  },
  {
   "cell_type": "markdown",
   "metadata": {},
   "source": [
    "Plot the results"
   ]
  },
  {
   "cell_type": "code",
   "execution_count": 9,
   "metadata": {},
   "outputs": [
    {
     "data": {
      "image/png": "[encoded data removed]",
      "text/plain": [
       "<Figure size 432x288 with 1 Axes>"
      ]
     },
     "metadata": {
      "needs_background": "light"
     },
     "output_type": "display_data"
    }
   ],
   "source": [
    "# Compute the true gini\n",
    "eta_1 = mu-1 + alpha_1/(alpha_1-1)\n",
    "G_true_1 = 1 - 2/eta_1 * ( (mu-1)/2 + alpha_1/(alpha_1-1)*(1 - alpha_1/(2*alpha_1-1)))\n",
    "\n",
    "fig = plt.figure(figsize=(6,4))\n",
    "ax = fig.add_subplot(1,1,1)\n",
    "\n",
    "ax.grid(b=True, which = 'major', linestyle='-', linewidth=0.5, color='0.9', zorder=0)\n",
    "ax.tick_params(axis='both', bottom=True, top=True, left=True, right=True, direction='in', which='both')\n",
    "\n",
    "ax.hist(G_vec_1, density = True, bins = 150, color = 'red', alpha = 0.7, zorder = 2, label='Semiparametric', histtype='stepfilled')\n",
    "ax.hist(G_nonparam_vec_1, density = True, bins = 150, color = 'blue', alpha = 0.7, zorder = 2, label='Nonparametric', histtype='stepfilled')\n",
    "\n",
    "ax.vlines(G_true_1, ymin=0,ymax=100, linestyle = '-', linewidth = 1.0, label='True Value', zorder=3)\n",
    "ax.set_ylim(0,60)\n",
    "ax.set_xlim(0.7,.85)\n",
    "\n",
    "ax.legend(frameon = True, edgecolor = 'k', facecolor = 'white', framealpha=1, fancybox=False)\n",
    "\n",
    "plt.savefig('../../tex/figs/estimator_15.pdf')"
   ]
  },
  {
   "cell_type": "markdown",
   "metadata": {},
   "source": [
    "Compute summary statistics"
   ]
  },
  {
   "cell_type": "code",
   "execution_count": 27,
   "metadata": {},
   "outputs": [
    {
     "name": "stdout",
     "output_type": "stream",
     "text": [
      "Nonparam bias = -0.0019315233423887745\n",
      "Semiparam bias = 0.0026017001718393606\n",
      "Nonparam variance = 0.015346397986039617\n",
      "Semiparam variance = 0.008484906423004698\n",
      "Nonparam skewness = 4.1443471822848545\n",
      "Semiparam skewness = 0.4281836944663952\n"
     ]
    }
   ],
   "source": [
    "print('Nonparam bias = ' + str(np.mean(G_nonparam_vec_1) - G_true_1))\n",
    "print('Semiparam bias = ' + str(np.mean(G_vec_1) - G_true_1))\n",
    "\n",
    "print('Nonparam variance = ' + str(np.std(G_nonparam_vec_1)))\n",
    "print('Semiparam variance = ' + str(np.std(G_vec_1)))\n",
    "\n",
    "print('Nonparam skewness = ' + str(stats.skew(G_nonparam_vec_1)))\n",
    "print('Semiparam skewness = ' + str(stats.skew(G_vec_1)))"
   ]
  },
  {
   "cell_type": "code",
   "execution_count": 28,
   "metadata": {},
   "outputs": [
    {
     "data": {
      "text/plain": [
       "ModeResult(mode=array([0.7273639]), count=array([1]))"
      ]
     },
     "execution_count": 28,
     "metadata": {},
     "output_type": "execute_result"
    }
   ],
   "source": [
    "stats.mode(G_vec_1)"
   ]
  },
  {
   "cell_type": "markdown",
   "metadata": {},
   "source": [
    "For $\\alpha = 1.2$"
   ]
  },
  {
   "cell_type": "code",
   "execution_count": 15,
   "metadata": {},
   "outputs": [],
   "source": [
    "# Set distribution parameters\n",
    "alpha_2 = 1.2\n",
    "mu = 0.0\n",
    "\n",
    "# Initialize\n",
    "G_vec_2 = np.zeros(shape=reps)\n",
    "G_nonparam_vec_2 = np.zeros(shape=reps)\n",
    "\n",
    "# Loop over replications for now\n",
    "for rep in range(reps):\n",
    "    \n",
    "    # Draw values\n",
    "    rand = np.random.uniform(0,1, size=n)\n",
    "    x = mu - 1 + (1 - rand)**(-1/alpha_2)\n",
    "    \n",
    "    # Compute p\n",
    "    P = 0.01\n",
    "    u = np.percentile(x,100*(1-P))\n",
    "\n",
    "    # Estmate alpha\n",
    "    N_1 = np.size(x[x>=u])    \n",
    "    alpha_hat = N_1 / (np.sum(np.log(x[x>u])) - N_1*np.log(u))\n",
    "    \n",
    "    # Compute S\n",
    "    x_low = x[x<u] # Is this needed?\n",
    "    E_low = np.mean(x[x<u])\n",
    "    S = alpha_hat/(alpha_hat-1)*u*P / (alpha_hat/(alpha_hat-1)*u*P + E_low * (1-P))\n",
    "    S_alvaredo = np.mean(x[x>=u]) / (np.mean(x[x>=u]) + E_low) # Numerical top income share\n",
    "\n",
    "    # Compute the Gini coefficients with both methods\n",
    "    G_high = 1/(2*alpha_hat-1)\n",
    "    G_low = funcs.gini(x[x<u])\n",
    "    \n",
    "    G = G_high*P*S + G_low*(1-P)*(1-S) + S - P\n",
    "    G_nonparam = funcs.gini(x)\n",
    "    \n",
    "    # Save values\n",
    "    G_vec_2[rep] = G\n",
    "    G_nonparam_vec_2[rep] = G_nonparam"
   ]
  },
  {
   "cell_type": "markdown",
   "metadata": {},
   "source": [
    "Plot the results"
   ]
  },
  {
   "cell_type": "code",
   "execution_count": 21,
   "metadata": {},
   "outputs": [
    {
     "data": {
      "image/png": "[encoded data removed]",
      "text/plain": [
       "<Figure size 432x288 with 1 Axes>"
      ]
     },
     "metadata": {
      "needs_background": "light"
     },
     "output_type": "display_data"
    }
   ],
   "source": [
    "# Compute the true gini\n",
    "eta_2 = mu-1 + alpha_2/(alpha_2-1)\n",
    "G_true_2 = 1 - 2/eta_2 * ( (mu-1)/2 + alpha_2/(alpha_2-1)*(1 - alpha_2/(2*alpha_2-1)))\n",
    "\n",
    "fig = plt.figure(figsize=(6,4))\n",
    "ax = fig.add_subplot(1,1,1)\n",
    "\n",
    "ax.grid(b=True, which = 'major', linestyle='-', linewidth=0.5, color='0.9', zorder=0)\n",
    "ax.tick_params(axis='both', bottom=True, top=True, left=True, right=True, direction='in', which='both')\n",
    "\n",
    "ax.hist(G_vec_2, density = True, bins = 150, color = 'red', alpha = 0.7, zorder = 2, label='Semiparametric', histtype='stepfilled')\n",
    "ax.hist(G_nonparam_vec_2, density = True, bins = 150, color = 'blue', alpha = 0.7, zorder = 2, label='Nonparametric', histtype='stepfilled')\n",
    "\n",
    "ax.vlines(G_true_2, ymin=0,ymax=100, linestyle = '-', linewidth = 1.0, label='True Value', zorder=3)\n",
    "ax.set_ylim(0,30)\n",
    "ax.set_xlim(0.75,1)\n",
    "\n",
    "ax.legend(frameon = True, edgecolor = 'k', facecolor = 'white', framealpha=1, fancybox=False)\n",
    "\n",
    "plt.savefig('../../tex/figs/estimator_12.pdf')"
   ]
  },
  {
   "cell_type": "code",
   "execution_count": 29,
   "metadata": {},
   "outputs": [
    {
     "name": "stdout",
     "output_type": "stream",
     "text": [
      "Nonparam bias = -0.017610955353194124\n",
      "Semiparam bias = 0.00557762406587925\n",
      "Nonparam variance = 0.025449297286362114\n",
      "Semiparam variance = 0.02013672400129087\n",
      "Nonparam skewness = 2.0608338565175117\n",
      "Semiparam skewness = 0.7427053728587425\n"
     ]
    }
   ],
   "source": [
    "print('Nonparam bias = ' + str(np.mean(G_nonparam_vec_2) - G_true_2))\n",
    "print('Semiparam bias = ' + str(np.mean(G_vec_2) - G_true_2))\n",
    "\n",
    "print('Nonparam variance = ' + str(np.std(G_nonparam_vec_2)))\n",
    "print('Semiparam variance = ' + str(np.std(G_vec_2)))\n",
    "\n",
    "print('Nonparam skewness = ' + str(stats.skew(G_nonparam_vec_2)))\n",
    "print('Semiparam skewness = ' + str(stats.skew(G_vec_2)))"
   ]
  },
  {
   "cell_type": "markdown",
   "metadata": {},
   "source": [
    "Some test code below here"
   ]
  },
  {
   "cell_type": "code",
   "execution_count": 395,
   "metadata": {},
   "outputs": [],
   "source": [
    "# Lorenz curve for Pareto type II\n",
    "def lorenz(F):\n",
    "    \n",
    "    denom = mu-1 + alpha /(alpha-1)\n",
    "    nom = F*(mu-1) + alpha/(alpha-1)*(1-(1-F)**(1-1/alpha))\n",
    "    \n",
    "    return nom/denom"
   ]
  },
  {
   "cell_type": "code",
   "execution_count": 396,
   "metadata": {},
   "outputs": [
    {
     "data": {
      "text/plain": [
       "[<matplotlib.lines.Line2D at 0x1c553b88a88>]"
      ]
     },
     "execution_count": 396,
     "metadata": {},
     "output_type": "execute_result"
    },
    {
     "data": {
      "image/png": "[encoded data removed]",
      "text/plain": [
       "<Figure size 432x288 with 1 Axes>"
      ]
     },
     "metadata": {
      "needs_background": "light"
     },
     "output_type": "display_data"
    }
   ],
   "source": [
    "temp = np.linspace(0,1,1000)\n",
    "lorenz_val = lorenz(temp)\n",
    "\n",
    "plt.plot(temp,lorenz_val)\n",
    "plt.plot(temp,temp)"
   ]
  },
  {
   "cell_type": "code",
   "execution_count": 104,
   "metadata": {},
   "outputs": [
    {
     "data": {
      "text/plain": [
       "0.75"
      ]
     },
     "execution_count": 104,
     "metadata": {},
     "output_type": "execute_result"
    }
   ],
   "source": [
    "mu = 0.00\n",
    "alpha = 1.5\n",
    "eta = mu-1 + alpha/(alpha-1)\n",
    "\n",
    "G_true = 1 - 2/eta * ( (mu-1)/2 + alpha/(alpha-1)*(1 - alpha/(2*alpha-1)))\n",
    "G_true"
   ]
  },
  {
   "cell_type": "markdown",
   "metadata": {},
   "source": [
    "Compute Gini numerically"
   ]
  },
  {
   "cell_type": "code",
   "execution_count": 410,
   "metadata": {},
   "outputs": [
    {
     "data": {
      "text/plain": [
       "0.8623158058581297"
      ]
     },
     "execution_count": 410,
     "metadata": {},
     "output_type": "execute_result"
    }
   ],
   "source": [
    "d = 1000000\n",
    "\n",
    "vals = np.linspace(0,1,d)\n",
    "dF = 1/d\n",
    "lorenz_vals = lorenz(vals)\n",
    "\n",
    "lorenz_int = np.sum(lorenz_vals*dF)\n",
    "\n",
    "gini_num = 1 - 2*lorenz_int\n",
    "gini_num"
   ]
  },
  {
   "cell_type": "markdown",
   "metadata": {},
   "source": [
    "It fits"
   ]
  }
 ],
 "metadata": {
  "kernelspec": {
   "display_name": "Python 3",
   "language": "python",
   "name": "python3"
  },
  "language_info": {
   "codemirror_mode": {
    "name": "ipython",
    "version": 3
   },
   "file_extension": ".py",
   "mimetype": "text/x-python",
   "name": "python",
   "nbconvert_exporter": "python",
   "pygments_lexer": "ipython3",
   "version": "3.7.4"
  }
 },
 "nbformat": 4,
 "nbformat_minor": 4
}
