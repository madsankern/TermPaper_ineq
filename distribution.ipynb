{
 "cells": [
  {
   "cell_type": "code",
   "execution_count": 184,
   "metadata": {},
   "outputs": [
    {
     "name": "stdout",
     "output_type": "stream",
     "text": [
      "The autoreload extension is already loaded. To reload it, use:\n",
      "  %reload_ext autoreload\n"
     ]
    }
   ],
   "source": [
    "# load general packages\n",
    "import numpy as np\n",
    "import pandas as pd\n",
    "import matplotlib.pyplot as plt\n",
    "from scipy import interpolate\n",
    "\n",
    "# Import user generated functions\n",
    "import functions as funcs\n",
    "\n",
    "%load_ext autoreload\n",
    "%autoreload 2\n",
    "\n",
    "## Uncomment for nicer plots ##\n",
    "plt.rc('font', family='serif')\n",
    "plt.rc('text', usetex=True)\n",
    "plt.rc('axes', axisbelow=True)"
   ]
  },
  {
   "cell_type": "markdown",
   "metadata": {},
   "source": [
    "# Load model data and plot"
   ]
  },
  {
   "cell_type": "markdown",
   "metadata": {},
   "source": [
    "Load the data and save the wealth distribution. The distributions is generated from an external matlab file 'model.m'."
   ]
  },
  {
   "cell_type": "code",
   "execution_count": 2,
   "metadata": {},
   "outputs": [],
   "source": [
    "# Load the matlab generated wealth distribution\n",
    "df_g = pd.read_csv(r'ga_var.csv', header=None)\n",
    "df_a = pd.read_csv(r'a_var.csv', header=None)\n",
    "\n",
    "# Save as a numpy array\n",
    "g_bottom = df_g.to_numpy()\n",
    "w_bottom = df_a.to_numpy()\n",
    "g_bottom = np.array(g_bottom).ravel() # Remove outer brackets\n",
    "w_bottom = np.array(w_bottom).ravel()"
   ]
  },
  {
   "cell_type": "markdown",
   "metadata": {},
   "source": [
    "Manually add a right tail to the wealth distribution"
   ]
  },
  {
   "cell_type": "code",
   "execution_count": 158,
   "metadata": {},
   "outputs": [],
   "source": [
    "# Define variables\n",
    "alpha = 1.5\n",
    "mu = -0.3\n",
    "np.random.seed(214)"
   ]
  },
  {
   "cell_type": "code",
   "execution_count": 4,
   "metadata": {},
   "outputs": [],
   "source": [
    "C = g_bottom[-1] / 2000**(-alpha-1)\n",
    "tail_vals = np.linspace(w_bottom[-1],1_000_000, 100000)\n",
    "\n",
    "g_top = C*tail_vals**(-alpha-1) # alpha value 1.5"
   ]
  },
  {
   "cell_type": "markdown",
   "metadata": {},
   "source": [
    "Combine the two distributions and define grid of wealth levels associated with $g(w)$"
   ]
  },
  {
   "cell_type": "code",
   "execution_count": 5,
   "metadata": {},
   "outputs": [],
   "source": [
    "g = np.append(g_bottom[:-1], g_top)\n",
    "w = np.append(w_bottom[:-1], tail_vals)"
   ]
  },
  {
   "cell_type": "markdown",
   "metadata": {},
   "source": [
    "Test if i can normalize the distribution"
   ]
  },
  {
   "cell_type": "code",
   "execution_count": 6,
   "metadata": {},
   "outputs": [],
   "source": [
    "# Numeric integral over the support\n",
    "integral = np.dot(g,w)\n",
    "\n",
    "# Normalize\n",
    "# g = g / integral"
   ]
  },
  {
   "cell_type": "markdown",
   "metadata": {},
   "source": [
    "Plot the distribution of wealth"
   ]
  },
  {
   "cell_type": "code",
   "execution_count": 197,
   "metadata": {},
   "outputs": [
    {
     "data": {
      "image/png": "[encoded data removed]",
      "text/plain": [
       "<Figure size 432x288 with 1 Axes>"
      ]
     },
     "metadata": {
      "needs_background": "light"
     },
     "output_type": "display_data"
    }
   ],
   "source": [
    "fig = plt.figure(figsize=(6,4))\n",
    "ax = fig.add_subplot(1,1,1)\n",
    "\n",
    "ax.grid(b=True, which = 'major', linestyle='-', linewidth=0.5, color='0.9', zorder=0)\n",
    "ax.tick_params(axis='both', bottom=True, top=True, left=True, right=True, direction='in', which='both')\n",
    "\n",
    "ax.plot(w, g, color = '0.4', zorder = 2, label = r'$g(a)$')\n",
    "\n",
    "ax.set_xlim(-0.3,10)\n",
    "ax.set_ylim(0,0.35)\n",
    "\n",
    "ax.set_xlabel(r'Wealth, $w$')\n",
    "ax.set_ylabel(r'Density, $g(w)$')\n",
    "\n",
    "# ax.legend(frameon = True, edgecolor = 'k', facecolor = 'white', framealpha=1, fancybox=False)\n",
    "\n",
    "plt.savefig('../../tex/figs/model.pdf')"
   ]
  },
  {
   "cell_type": "code",
   "execution_count": 196,
   "metadata": {},
   "outputs": [
    {
     "data": {
      "image/png": "[encoded data removed]",
      "text/plain": [
       "<Figure size 432x288 with 1 Axes>"
      ]
     },
     "metadata": {
      "needs_background": "light"
     },
     "output_type": "display_data"
    }
   ],
   "source": [
    "fig = plt.figure(figsize=(6,4))\n",
    "ax = fig.add_subplot(1,1,1)\n",
    "\n",
    "ax.grid(b=True, which = 'major', linestyle='-', linewidth=0.5, color='0.9', zorder=0)\n",
    "ax.tick_params(axis='both', bottom=True, top=True, left=True, right=True, direction='in', which='both')\n",
    "\n",
    "ax.plot(w, g, color = '0.4', zorder = 2, label = r'$g(a)$')\n",
    "ax.set(xscale='log', yscale = 'log')\n",
    "\n",
    "ax.set_xlim(1e-2,1e+3)\n",
    "ax.set_ylim(1e-8,1)\n",
    "\n",
    "ax.set_xlabel(r'Assets, $a$')\n",
    "ax.set_ylabel(r'Density, $g(a)$')\n",
    "\n",
    "# ax.legend(frameon = True, edgecolor = 'k', facecolor = 'white', framealpha=1, fancybox=False)\n",
    "\n",
    "plt.savefig('../../tex/figs/model_log.pdf')"
   ]
  },
  {
   "cell_type": "markdown",
   "metadata": {},
   "source": [
    "# Simulations"
   ]
  },
  {
   "cell_type": "markdown",
   "metadata": {},
   "source": [
    "**Draw from the asset distribution using rejection sampling**"
   ]
  },
  {
   "cell_type": "markdown",
   "metadata": {},
   "source": [
    "First generate the envelope density, $\\tilde{g}(w)$, then find $c = \\max \\frac{g(w)}{\\tilde{g}(w)} + \\varepsilon$ for some small $\\varepsilon$."
   ]
  },
  {
   "cell_type": "code",
   "execution_count": 8,
   "metadata": {},
   "outputs": [
    {
     "name": "stdout",
     "output_type": "stream",
     "text": [
      "1.04383186071944\n"
     ]
    }
   ],
   "source": [
    "# Generate envelope density\n",
    "density_pareto = funcs.den_pareto2(w, 1.5, np.min(w))\n",
    "\n",
    "# Find the ratio of the densities over the domain\n",
    "c = g/density_pareto\n",
    "\n",
    "# Find the maximal value and add small epsilon\n",
    "c_max = np.max(c) + 1e-5\n",
    "print(c_max)"
   ]
  },
  {
   "cell_type": "markdown",
   "metadata": {},
   "source": [
    "To draw random numbers from these distributions i need to interpolate between values.\n",
    "I use a linear interpolater for simplicity."
   ]
  },
  {
   "cell_type": "code",
   "execution_count": 9,
   "metadata": {},
   "outputs": [],
   "source": [
    "f = interpolate.interp1d(w,g, bounds_error = False, fill_value = 0)\n",
    "h = interpolate.interp1d(w,density_pareto, bounds_error = False, fill_value = 0)"
   ]
  },
  {
   "cell_type": "markdown",
   "metadata": {},
   "source": [
    "Run the rejection sampling algorithm just to test if everything works.\n",
    "THE TWO CELLE BELOW WILL BE REMOVED"
   ]
  },
  {
   "cell_type": "code",
   "execution_count": 120,
   "metadata": {},
   "outputs": [],
   "source": [
    "# Test function\n",
    "N = 50_000\n",
    "\n",
    "sample = funcs.act_rejct(N,c_max,h,f)"
   ]
  },
  {
   "cell_type": "code",
   "execution_count": 138,
   "metadata": {},
   "outputs": [
    {
     "data": {
      "image/png": "[encoded data removed]",
      "text/plain": [
       "<Figure size 432x288 with 1 Axes>"
      ]
     },
     "metadata": {
      "needs_background": "light"
     },
     "output_type": "display_data"
    }
   ],
   "source": [
    "fig = plt.figure(figsize=(6,4))\n",
    "ax = fig.add_subplot(1,1,1)\n",
    "\n",
    "ax.grid(b=True, which = 'major', linestyle='-', linewidth=0.5, color='0.9', zorder=0)\n",
    "ax.tick_params(axis='both', bottom=True, top=True, left=True, right=True, direction='in', which='both')\n",
    "\n",
    "ax.hist(sample, bins = np.linspace(np.min(w),2,500), density = True)\n",
    "ax.plot(w,g)\n",
    "\n",
    "ax.set_xlim(np.min(w),2)\n",
    "\n",
    "plt.show()"
   ]
  },
  {
   "cell_type": "markdown",
   "metadata": {},
   "source": [
    "**Run Monte Carlo experiment**"
   ]
  },
  {
   "cell_type": "code",
   "execution_count": 169,
   "metadata": {},
   "outputs": [],
   "source": [
    "# Parameters\n",
    "N = 10_000\n",
    "reps = 10_000\n",
    "\n",
    "# Initialize\n",
    "G_new = np.empty(shape=reps) # Improved estimator\n",
    "G_np = np.empty(shape=reps) # Non-parametric estimator\n",
    "\n",
    "# Loop over reps\n",
    "for j in range(reps):\n",
    "    \n",
    "    # Draw sample using accept-reject\n",
    "    sample = funcs.act_rejct(N,c_max,h,f)\n",
    "    \n",
    "    ## Compute nonparametric gini ## \n",
    "    \n",
    "    G_np[j] = funcs.gini(sample)\n",
    "    \n",
    "    ## Compute improved gini ##\n",
    "    \n",
    "    # The (1-p)'th percentile\n",
    "    P = 0.0025\n",
    "    u = np.percentile(sample,100*(1-P))\n",
    "    \n",
    "    # Compute s\n",
    "    x_low = sample[sample<u] # Is this needed?\n",
    "    E_low = np.mean(sample[sample<u])\n",
    "    S = alpha/(alpha-1)*u*P / (alpha/(alpha-1)*u*P + E_low * (1-P))\n",
    "\n",
    "    # Compute the Gini for top and bottom of sample\n",
    "    G_high = 1/(2*alpha-1)\n",
    "    G_low = funcs.gini(sample[sample<u])\n",
    "    \n",
    "    # Collect these\n",
    "    G_new[j] = G_high*P*S + G_low*(1-P)*(1-S) + S - P"
   ]
  },
  {
   "cell_type": "markdown",
   "metadata": {},
   "source": [
    "Plot the resulting distribution of Gini coefficient estimators"
   ]
  },
  {
   "cell_type": "code",
   "execution_count": 198,
   "metadata": {},
   "outputs": [
    {
     "data": {
      "image/png": "[encoded data removed]",
      "text/plain": [
       "<Figure size 432x288 with 1 Axes>"
      ]
     },
     "metadata": {
      "needs_background": "light"
     },
     "output_type": "display_data"
    }
   ],
   "source": [
    "fig = plt.figure(figsize=(6,4))\n",
    "ax = fig.add_subplot(1,1,1)\n",
    "\n",
    "ax.grid(b=True, which = 'major', linestyle='-', linewidth=0.5, color='0.9', zorder=0)\n",
    "ax.tick_params(axis='both', bottom=True, top=True, left=True, right=True, direction='in', which='both')\n",
    "\n",
    "ax.hist(G_new, density = True, bins = 150, color = 'red', alpha = 0.7, zorder = 2, label='Semiparametric')\n",
    "ax.hist(G_np, density = True, bins = 150, color = 'blue', alpha = 0.7, zorder = 2, label='Nonparametric')\n",
    "\n",
    "# ax.set_ylim(0,100)\n",
    "# ax.set_xlim(0.65,1)\n",
    "\n",
    "ax.legend(frameon = True, edgecolor = 'k', facecolor = 'white', framealpha=1, fancybox=False)\n",
    "\n",
    "plt.savefig('../../tex/figs/model_estimator.pdf')"
   ]
  }
 ],
 "metadata": {
  "kernelspec": {
   "display_name": "Python 3",
   "language": "python",
   "name": "python3"
  },
  "language_info": {
   "codemirror_mode": {
    "name": "ipython",
    "version": 3
   },
   "file_extension": ".py",
   "mimetype": "text/x-python",
   "name": "python",
   "nbconvert_exporter": "python",
   "pygments_lexer": "ipython3",
   "version": "3.7.4"
  }
 },
 "nbformat": 4,
 "nbformat_minor": 4
}
